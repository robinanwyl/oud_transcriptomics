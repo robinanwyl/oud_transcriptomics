{
  "nbformat": 4,
  "nbformat_minor": 0,
  "metadata": {
    "colab": {
      "provenance": [],
      "authorship_tag": "ABX9TyNEjGAJlAFc82Gu/EbSs7Jf",
      "include_colab_link": true
    },
    "kernelspec": {
      "name": "python3",
      "display_name": "Python 3"
    },
    "language_info": {
      "name": "python"
    }
  },
  "cells": [
    {
      "cell_type": "markdown",
      "metadata": {
        "id": "view-in-github",
        "colab_type": "text"
      },
      "source": [
        "<a href=\"https://colab.research.google.com/github/robinanwyl/oud_transcriptomics/blob/main/BENG204_Project.ipynb\" target=\"_parent\"><img src=\"https://colab.research.google.com/assets/colab-badge.svg\" alt=\"Open In Colab\"/></a>"
      ]
    },
    {
      "cell_type": "markdown",
      "source": [
        "# BENG 204 Project: Understanding Transcriptional Responses to Opioid Exposure Across Neurodevelopmental Stages in Brain Organoid Models"
      ],
      "metadata": {
        "id": "x0JJx1F1ihZa"
      }
    },
    {
      "cell_type": "markdown",
      "source": [
        "Mount the drive (run this cell every time the notebook is opened, and enable permissions if prompted)"
      ],
      "metadata": {
        "id": "xfOFMAwNh2j4"
      }
    },
    {
      "cell_type": "code",
      "execution_count": 1,
      "metadata": {
        "id": "GWSRmTUTdPFX",
        "colab": {
          "base_uri": "https://localhost:8080/"
        },
        "outputId": "96ad837f-ebb8-4812-c533-8573988cb21e"
      },
      "outputs": [
        {
          "output_type": "stream",
          "name": "stdout",
          "text": [
            "Mounted at /content/drive\n"
          ]
        }
      ],
      "source": [
        "from google.colab import drive\n",
        "drive.mount('/content/drive')\n",
        "# filepath for the project data is now \"/content/drive/My Drive/BENG204_Project/BENG204_Project_Data/\""
      ]
    },
    {
      "cell_type": "markdown",
      "source": [
        "If the scanpy and anndata import statements cannot be resolved, run this cell to re-install those packages."
      ],
      "metadata": {
        "id": "-o9oxyISwYVv"
      }
    },
    {
      "cell_type": "code",
      "source": [
        "%pip install scanpy\n",
        "%pip install anndata\n",
        "%pip install pydeseq2"
      ],
      "metadata": {
        "id": "n91s2TS5wX18",
        "colab": {
          "base_uri": "https://localhost:8080/"
        },
        "collapsed": true,
        "outputId": "bde4a0f2-dd97-4271-f7da-fbb2115cbc28"
      },
      "execution_count": 2,
      "outputs": [
        {
          "output_type": "stream",
          "name": "stdout",
          "text": [
            "Collecting scanpy\n",
            "  Downloading scanpy-1.11.0-py3-none-any.whl.metadata (9.5 kB)\n",
            "Collecting anndata>=0.8 (from scanpy)\n",
            "  Downloading anndata-0.11.3-py3-none-any.whl.metadata (8.2 kB)\n",
            "Requirement already satisfied: h5py>=3.7 in /usr/local/lib/python3.11/dist-packages (from scanpy) (3.12.1)\n",
            "Requirement already satisfied: joblib in /usr/local/lib/python3.11/dist-packages (from scanpy) (1.4.2)\n",
            "Collecting legacy-api-wrap>=1.4 (from scanpy)\n",
            "  Downloading legacy_api_wrap-1.4.1-py3-none-any.whl.metadata (2.1 kB)\n",
            "Requirement already satisfied: matplotlib>=3.6 in /usr/local/lib/python3.11/dist-packages (from scanpy) (3.10.0)\n",
            "Requirement already satisfied: natsort in /usr/local/lib/python3.11/dist-packages (from scanpy) (8.4.0)\n",
            "Requirement already satisfied: networkx>=2.7 in /usr/local/lib/python3.11/dist-packages (from scanpy) (3.4.2)\n",
            "Requirement already satisfied: numba>=0.57 in /usr/local/lib/python3.11/dist-packages (from scanpy) (0.61.0)\n",
            "Requirement already satisfied: numpy>=1.24 in /usr/local/lib/python3.11/dist-packages (from scanpy) (1.26.4)\n",
            "Requirement already satisfied: packaging>=21.3 in /usr/local/lib/python3.11/dist-packages (from scanpy) (24.2)\n",
            "Requirement already satisfied: pandas>=1.5 in /usr/local/lib/python3.11/dist-packages (from scanpy) (2.2.2)\n",
            "Requirement already satisfied: patsy!=1.0.0 in /usr/local/lib/python3.11/dist-packages (from scanpy) (1.0.1)\n",
            "Requirement already satisfied: pynndescent>=0.5 in /usr/local/lib/python3.11/dist-packages (from scanpy) (0.5.13)\n",
            "Collecting scikit-learn<1.6.0,>=1.1 (from scanpy)\n",
            "  Downloading scikit_learn-1.5.2-cp311-cp311-manylinux_2_17_x86_64.manylinux2014_x86_64.whl.metadata (13 kB)\n",
            "Requirement already satisfied: scipy>=1.8 in /usr/local/lib/python3.11/dist-packages (from scanpy) (1.13.1)\n",
            "Requirement already satisfied: seaborn>=0.13 in /usr/local/lib/python3.11/dist-packages (from scanpy) (0.13.2)\n",
            "Collecting session-info2 (from scanpy)\n",
            "  Downloading session_info2-0.1.2-py3-none-any.whl.metadata (2.5 kB)\n",
            "Requirement already satisfied: statsmodels>=0.13 in /usr/local/lib/python3.11/dist-packages (from scanpy) (0.14.4)\n",
            "Requirement already satisfied: tqdm in /usr/local/lib/python3.11/dist-packages (from scanpy) (4.67.1)\n",
            "Requirement already satisfied: typing-extensions in /usr/local/lib/python3.11/dist-packages (from scanpy) (4.12.2)\n",
            "Requirement already satisfied: umap-learn!=0.5.0,>=0.5 in /usr/local/lib/python3.11/dist-packages (from scanpy) (0.5.7)\n",
            "Collecting array-api-compat!=1.5,>1.4 (from anndata>=0.8->scanpy)\n",
            "  Downloading array_api_compat-1.11-py3-none-any.whl.metadata (1.8 kB)\n",
            "Requirement already satisfied: contourpy>=1.0.1 in /usr/local/lib/python3.11/dist-packages (from matplotlib>=3.6->scanpy) (1.3.1)\n",
            "Requirement already satisfied: cycler>=0.10 in /usr/local/lib/python3.11/dist-packages (from matplotlib>=3.6->scanpy) (0.12.1)\n",
            "Requirement already satisfied: fonttools>=4.22.0 in /usr/local/lib/python3.11/dist-packages (from matplotlib>=3.6->scanpy) (4.56.0)\n",
            "Requirement already satisfied: kiwisolver>=1.3.1 in /usr/local/lib/python3.11/dist-packages (from matplotlib>=3.6->scanpy) (1.4.8)\n",
            "Requirement already satisfied: pillow>=8 in /usr/local/lib/python3.11/dist-packages (from matplotlib>=3.6->scanpy) (11.1.0)\n",
            "Requirement already satisfied: pyparsing>=2.3.1 in /usr/local/lib/python3.11/dist-packages (from matplotlib>=3.6->scanpy) (3.2.1)\n",
            "Requirement already satisfied: python-dateutil>=2.7 in /usr/local/lib/python3.11/dist-packages (from matplotlib>=3.6->scanpy) (2.8.2)\n",
            "Requirement already satisfied: llvmlite<0.45,>=0.44.0dev0 in /usr/local/lib/python3.11/dist-packages (from numba>=0.57->scanpy) (0.44.0)\n",
            "Requirement already satisfied: pytz>=2020.1 in /usr/local/lib/python3.11/dist-packages (from pandas>=1.5->scanpy) (2025.1)\n",
            "Requirement already satisfied: tzdata>=2022.7 in /usr/local/lib/python3.11/dist-packages (from pandas>=1.5->scanpy) (2025.1)\n",
            "Requirement already satisfied: threadpoolctl>=3.1.0 in /usr/local/lib/python3.11/dist-packages (from scikit-learn<1.6.0,>=1.1->scanpy) (3.5.0)\n",
            "Requirement already satisfied: six>=1.5 in /usr/local/lib/python3.11/dist-packages (from python-dateutil>=2.7->matplotlib>=3.6->scanpy) (1.17.0)\n",
            "Downloading scanpy-1.11.0-py3-none-any.whl (2.1 MB)\n",
            "\u001b[2K   \u001b[90m━━━━━━━━━━━━━━━━━━━━━━━━━━━━━━━━━━━━━━━━\u001b[0m \u001b[32m2.1/2.1 MB\u001b[0m \u001b[31m14.9 MB/s\u001b[0m eta \u001b[36m0:00:00\u001b[0m\n",
            "\u001b[?25hDownloading anndata-0.11.3-py3-none-any.whl (142 kB)\n",
            "\u001b[2K   \u001b[90m━━━━━━━━━━━━━━━━━━━━━━━━━━━━━━━━━━━━━━━━\u001b[0m \u001b[32m142.7/142.7 kB\u001b[0m \u001b[31m859.2 kB/s\u001b[0m eta \u001b[36m0:00:00\u001b[0m\n",
            "\u001b[?25hDownloading legacy_api_wrap-1.4.1-py3-none-any.whl (10.0 kB)\n",
            "Downloading scikit_learn-1.5.2-cp311-cp311-manylinux_2_17_x86_64.manylinux2014_x86_64.whl (13.3 MB)\n",
            "\u001b[2K   \u001b[90m━━━━━━━━━━━━━━━━━━━━━━━━━━━━━━━━━━━━━━━━\u001b[0m \u001b[32m13.3/13.3 MB\u001b[0m \u001b[31m53.0 MB/s\u001b[0m eta \u001b[36m0:00:00\u001b[0m\n",
            "\u001b[?25hDownloading session_info2-0.1.2-py3-none-any.whl (14 kB)\n",
            "Downloading array_api_compat-1.11-py3-none-any.whl (52 kB)\n",
            "\u001b[2K   \u001b[90m━━━━━━━━━━━━━━━━━━━━━━━━━━━━━━━━━━━━━━━━\u001b[0m \u001b[32m52.7/52.7 kB\u001b[0m \u001b[31m2.8 MB/s\u001b[0m eta \u001b[36m0:00:00\u001b[0m\n",
            "\u001b[?25hInstalling collected packages: session-info2, legacy-api-wrap, array-api-compat, scikit-learn, anndata, scanpy\n",
            "  Attempting uninstall: scikit-learn\n",
            "    Found existing installation: scikit-learn 1.6.1\n",
            "    Uninstalling scikit-learn-1.6.1:\n",
            "      Successfully uninstalled scikit-learn-1.6.1\n",
            "Successfully installed anndata-0.11.3 array-api-compat-1.11 legacy-api-wrap-1.4.1 scanpy-1.11.0 scikit-learn-1.5.2 session-info2-0.1.2\n",
            "Requirement already satisfied: anndata in /usr/local/lib/python3.11/dist-packages (0.11.3)\n",
            "Requirement already satisfied: array-api-compat!=1.5,>1.4 in /usr/local/lib/python3.11/dist-packages (from anndata) (1.11)\n",
            "Requirement already satisfied: h5py>=3.7 in /usr/local/lib/python3.11/dist-packages (from anndata) (3.12.1)\n",
            "Requirement already satisfied: natsort in /usr/local/lib/python3.11/dist-packages (from anndata) (8.4.0)\n",
            "Requirement already satisfied: numpy>=1.23 in /usr/local/lib/python3.11/dist-packages (from anndata) (1.26.4)\n",
            "Requirement already satisfied: packaging>=20.0 in /usr/local/lib/python3.11/dist-packages (from anndata) (24.2)\n",
            "Requirement already satisfied: pandas!=2.1.0rc0,!=2.1.2,>=1.4 in /usr/local/lib/python3.11/dist-packages (from anndata) (2.2.2)\n",
            "Requirement already satisfied: scipy>1.8 in /usr/local/lib/python3.11/dist-packages (from anndata) (1.13.1)\n",
            "Requirement already satisfied: python-dateutil>=2.8.2 in /usr/local/lib/python3.11/dist-packages (from pandas!=2.1.0rc0,!=2.1.2,>=1.4->anndata) (2.8.2)\n",
            "Requirement already satisfied: pytz>=2020.1 in /usr/local/lib/python3.11/dist-packages (from pandas!=2.1.0rc0,!=2.1.2,>=1.4->anndata) (2025.1)\n",
            "Requirement already satisfied: tzdata>=2022.7 in /usr/local/lib/python3.11/dist-packages (from pandas!=2.1.0rc0,!=2.1.2,>=1.4->anndata) (2025.1)\n",
            "Requirement already satisfied: six>=1.5 in /usr/local/lib/python3.11/dist-packages (from python-dateutil>=2.8.2->pandas!=2.1.0rc0,!=2.1.2,>=1.4->anndata) (1.17.0)\n",
            "Collecting pydeseq2\n",
            "  Downloading pydeseq2-0.5.0-py3-none-any.whl.metadata (7.3 kB)\n",
            "Requirement already satisfied: anndata>=0.8.0 in /usr/local/lib/python3.11/dist-packages (from pydeseq2) (0.11.3)\n",
            "Collecting formulaic>=1.0.2 (from pydeseq2)\n",
            "  Downloading formulaic-1.1.1-py3-none-any.whl.metadata (6.9 kB)\n",
            "Requirement already satisfied: numpy>=1.23.0 in /usr/local/lib/python3.11/dist-packages (from pydeseq2) (1.26.4)\n",
            "Requirement already satisfied: pandas>=1.4.0 in /usr/local/lib/python3.11/dist-packages (from pydeseq2) (2.2.2)\n",
            "Requirement already satisfied: scikit-learn>=1.1.0 in /usr/local/lib/python3.11/dist-packages (from pydeseq2) (1.5.2)\n",
            "Requirement already satisfied: scipy>=1.11.0 in /usr/local/lib/python3.11/dist-packages (from pydeseq2) (1.13.1)\n",
            "Collecting formulaic-contrasts>=0.2.0 (from pydeseq2)\n",
            "  Downloading formulaic_contrasts-1.0.0-py3-none-any.whl.metadata (6.5 kB)\n",
            "Requirement already satisfied: matplotlib>=3.6.2 in /usr/local/lib/python3.11/dist-packages (from pydeseq2) (3.10.0)\n",
            "Requirement already satisfied: array-api-compat!=1.5,>1.4 in /usr/local/lib/python3.11/dist-packages (from anndata>=0.8.0->pydeseq2) (1.11)\n",
            "Requirement already satisfied: h5py>=3.7 in /usr/local/lib/python3.11/dist-packages (from anndata>=0.8.0->pydeseq2) (3.12.1)\n",
            "Requirement already satisfied: natsort in /usr/local/lib/python3.11/dist-packages (from anndata>=0.8.0->pydeseq2) (8.4.0)\n",
            "Requirement already satisfied: packaging>=20.0 in /usr/local/lib/python3.11/dist-packages (from anndata>=0.8.0->pydeseq2) (24.2)\n",
            "Collecting interface-meta>=1.2.0 (from formulaic>=1.0.2->pydeseq2)\n",
            "  Downloading interface_meta-1.3.0-py3-none-any.whl.metadata (6.7 kB)\n",
            "Requirement already satisfied: typing-extensions>=4.2.0 in /usr/local/lib/python3.11/dist-packages (from formulaic>=1.0.2->pydeseq2) (4.12.2)\n",
            "Requirement already satisfied: wrapt>=1.0 in /usr/local/lib/python3.11/dist-packages (from formulaic>=1.0.2->pydeseq2) (1.17.2)\n",
            "Collecting session-info (from formulaic-contrasts>=0.2.0->pydeseq2)\n",
            "  Downloading session_info-1.0.0.tar.gz (24 kB)\n",
            "  Preparing metadata (setup.py) ... \u001b[?25l\u001b[?25hdone\n",
            "Requirement already satisfied: contourpy>=1.0.1 in /usr/local/lib/python3.11/dist-packages (from matplotlib>=3.6.2->pydeseq2) (1.3.1)\n",
            "Requirement already satisfied: cycler>=0.10 in /usr/local/lib/python3.11/dist-packages (from matplotlib>=3.6.2->pydeseq2) (0.12.1)\n",
            "Requirement already satisfied: fonttools>=4.22.0 in /usr/local/lib/python3.11/dist-packages (from matplotlib>=3.6.2->pydeseq2) (4.56.0)\n",
            "Requirement already satisfied: kiwisolver>=1.3.1 in /usr/local/lib/python3.11/dist-packages (from matplotlib>=3.6.2->pydeseq2) (1.4.8)\n",
            "Requirement already satisfied: pillow>=8 in /usr/local/lib/python3.11/dist-packages (from matplotlib>=3.6.2->pydeseq2) (11.1.0)\n",
            "Requirement already satisfied: pyparsing>=2.3.1 in /usr/local/lib/python3.11/dist-packages (from matplotlib>=3.6.2->pydeseq2) (3.2.1)\n",
            "Requirement already satisfied: python-dateutil>=2.7 in /usr/local/lib/python3.11/dist-packages (from matplotlib>=3.6.2->pydeseq2) (2.8.2)\n",
            "Requirement already satisfied: pytz>=2020.1 in /usr/local/lib/python3.11/dist-packages (from pandas>=1.4.0->pydeseq2) (2025.1)\n",
            "Requirement already satisfied: tzdata>=2022.7 in /usr/local/lib/python3.11/dist-packages (from pandas>=1.4.0->pydeseq2) (2025.1)\n",
            "Requirement already satisfied: joblib>=1.2.0 in /usr/local/lib/python3.11/dist-packages (from scikit-learn>=1.1.0->pydeseq2) (1.4.2)\n",
            "Requirement already satisfied: threadpoolctl>=3.1.0 in /usr/local/lib/python3.11/dist-packages (from scikit-learn>=1.1.0->pydeseq2) (3.5.0)\n",
            "Requirement already satisfied: six>=1.5 in /usr/local/lib/python3.11/dist-packages (from python-dateutil>=2.7->matplotlib>=3.6.2->pydeseq2) (1.17.0)\n",
            "Collecting stdlib_list (from session-info->formulaic-contrasts>=0.2.0->pydeseq2)\n",
            "  Downloading stdlib_list-0.11.1-py3-none-any.whl.metadata (3.3 kB)\n",
            "Downloading pydeseq2-0.5.0-py3-none-any.whl (46 kB)\n",
            "\u001b[2K   \u001b[90m━━━━━━━━━━━━━━━━━━━━━━━━━━━━━━━━━━━━━━━━\u001b[0m \u001b[32m46.7/46.7 kB\u001b[0m \u001b[31m3.4 MB/s\u001b[0m eta \u001b[36m0:00:00\u001b[0m\n",
            "\u001b[?25hDownloading formulaic-1.1.1-py3-none-any.whl (115 kB)\n",
            "\u001b[2K   \u001b[90m━━━━━━━━━━━━━━━━━━━━━━━━━━━━━━━━━━━━━━━━\u001b[0m \u001b[32m115.7/115.7 kB\u001b[0m \u001b[31m6.2 MB/s\u001b[0m eta \u001b[36m0:00:00\u001b[0m\n",
            "\u001b[?25hDownloading formulaic_contrasts-1.0.0-py3-none-any.whl (10 kB)\n",
            "Downloading interface_meta-1.3.0-py3-none-any.whl (14 kB)\n",
            "Downloading stdlib_list-0.11.1-py3-none-any.whl (83 kB)\n",
            "\u001b[2K   \u001b[90m━━━━━━━━━━━━━━━━━━━━━━━━━━━━━━━━━━━━━━━━\u001b[0m \u001b[32m83.6/83.6 kB\u001b[0m \u001b[31m5.6 MB/s\u001b[0m eta \u001b[36m0:00:00\u001b[0m\n",
            "\u001b[?25hBuilding wheels for collected packages: session-info\n",
            "  Building wheel for session-info (setup.py) ... \u001b[?25l\u001b[?25hdone\n",
            "  Created wheel for session-info: filename=session_info-1.0.0-py3-none-any.whl size=8023 sha256=cb78a884eb05eb5cf3ab993caa28e9f65caca64610fe523588519796c8161a23\n",
            "  Stored in directory: /root/.cache/pip/wheels/4e/56/35/a748fc57279a4b84d0b332879445fed1ad8478e7257986b015\n",
            "Successfully built session-info\n",
            "Installing collected packages: stdlib_list, interface-meta, session-info, formulaic, formulaic-contrasts, pydeseq2\n",
            "Successfully installed formulaic-1.1.1 formulaic-contrasts-1.0.0 interface-meta-1.3.0 pydeseq2-0.5.0 session-info-1.0.0 stdlib_list-0.11.1\n"
          ]
        }
      ]
    },
    {
      "cell_type": "markdown",
      "source": [
        "Import statements"
      ],
      "metadata": {
        "id": "M1Ibv7NrPgac"
      }
    },
    {
      "cell_type": "code",
      "source": [
        "import scanpy as sc\n",
        "import anndata as ad\n",
        "import numpy as np\n",
        "import pandas as pd\n",
        "from pydeseq2.dds import DeseqDataSet\n",
        "from pydeseq2.ds import DeseqStats\n",
        "# import matplotlib.pyplot as plt\n",
        "# etc."
      ],
      "metadata": {
        "id": "PqVz0cjBPg-F"
      },
      "execution_count": 3,
      "outputs": []
    },
    {
      "cell_type": "markdown",
      "source": [
        "## Read in Kim et al scRNA-seq 10X output files and save as .h5ad.gz files (perform once)\n",
        "**Read in the scRNA-seq data for Kim et al dataset day 53 untreated sample and day 53 acute fentanyl treatment sample. Merge the datasets (using unique cell barcodes with sample identifiers). Save the two datasets and the merged dataset as `.h5ad.gz` files.**\n",
        "\n",
        "The original sample IDs are KH001 for the day 53 untreated sample and KH002 for the day 53 acute fentanyl treatment sample. Each sample has its own folder containing 3 compressed (`.gz`) files, which are the 10X Genomics CellRanger output files:\n",
        "\n",
        "*   `matrix.mtx.gz` is a count matrix where rows are single cells, columns are genes, and each cell is the read count of that gene in that cell\n",
        "*   `barcodes.tsv.gz` contains the cell barcodes (each cell is labeled with a unique barcode, which is used as an identifier)\n",
        "*   `features.tsv.gz` contains the gene names\n",
        "\n",
        "For each sample, we will first use `scanpy.read_10x_mtx()` to read the 3 files into a single `AnnData` object that contains the cell-by-gene matrix and associated metadata (barcodes and features):"
      ],
      "metadata": {
        "id": "Ztbxy1atGj_z"
      }
    },
    {
      "cell_type": "code",
      "source": [
        "# sample1_path = \"/content/drive/My Drive/BENG204_Project/BENG204_Project_Data/Kim_KH001_Day53_Untreated\"\n",
        "# adata1 = sc.read_10x_mtx(sample1_path, var_names=\"gene_symbols\", cache=True)\n",
        "# adata1.obs[\"sample\"] = \"kim_day53_untreated\"\n",
        "\n",
        "# sample2_path = \"/content/drive/My Drive/BENG204_Project/BENG204_Project_Data/Kim_KH002_Day53_FTY_Acute\"\n",
        "# adata2 = sc.read_10x_mtx(sample2_path, var_names=\"gene_symbols\", cache=True)\n",
        "# adata2.obs[\"sample\"] = \"kim_d53_fty_acute\""
      ],
      "metadata": {
        "id": "FOpNEGzzGrt4"
      },
      "execution_count": null,
      "outputs": []
    },
    {
      "cell_type": "markdown",
      "source": [
        "Now we will merge the two samples into one AnnData object. Since we want to keep track of which sample is which, we will first prepend the cell barcodes with a sample description: \"d53_ut\" for the untreated samples and \"d53_fty\" for the treated samples."
      ],
      "metadata": {
        "id": "ZJ5XYSRoQLJz"
      }
    },
    {
      "cell_type": "code",
      "source": [
        "# adata1.obs.index = [f\"d53_ut_{barcode}\" for barcode in adata1.obs.index]\n",
        "# adata2.obs.index = [f\"d53_fty_{barcode}\" for barcode in adata2.obs.index]\n",
        "# adata_combined = sc.concat([adata1, adata2], label=\"batch\", keys=[\"sample1\", \"sample2\"])\n",
        "# print(\"day 53 samples merged\\n\", adata_combined)"
      ],
      "metadata": {
        "colab": {
          "base_uri": "https://localhost:8080/"
        },
        "id": "S9L42BQNOBhc",
        "outputId": "50e26038-1995-4046-83a8-c0318a7dde51"
      },
      "execution_count": null,
      "outputs": [
        {
          "output_type": "stream",
          "name": "stdout",
          "text": [
            "day 53 samples merged\n",
            " AnnData object with n_obs × n_vars = 10630 × 33538\n",
            "    obs: 'sample', 'batch'\n"
          ]
        }
      ]
    },
    {
      "cell_type": "markdown",
      "source": [
        "Now we will save the three AnnData objects as `.h5ad.gz` files for later use."
      ],
      "metadata": {
        "id": "yHyPZ2rKTzJC"
      }
    },
    {
      "cell_type": "code",
      "source": [
        "# adata1.write(\"/content/drive/My Drive/BENG204_Project/BENG204_Project_Data/kim_d53_ut.h5ad.gz\", compression=\"gzip\")\n",
        "# adata2.write(\"/content/drive/My Drive/BENG204_Project/BENG204_Project_Data/kim_d53_fty.h5ad.gz\", compression=\"gzip\")\n",
        "# adata_combined.write(\"/content/drive/My Drive/BENG204_Project/BENG204_Project_Data/kim_d53_combined.h5ad.gz\", compression=\"gzip\")"
      ],
      "metadata": {
        "id": "325LybMrSOUY"
      },
      "execution_count": null,
      "outputs": []
    },
    {
      "cell_type": "markdown",
      "source": [
        "## Read in Kim et al .h5ad.gz files\n",
        "\n",
        "Now the Kim et al datasets that were saved as .h5ad.gz files can be read in as AnnData objects using `scanpy.read_h5ad()`."
      ],
      "metadata": {
        "id": "wF5_T5dwWjvH"
      }
    },
    {
      "cell_type": "code",
      "source": [
        "kim_d53_ut = sc.read_h5ad(\"/content/drive/My Drive/BENG204_Project/BENG204_Project_Data/kim_d53_ut.h5ad.gz\")\n",
        "kim_d53_fty = sc.read_h5ad(\"/content/drive/My Drive/BENG204_Project/BENG204_Project_Data/kim_d53_fty.h5ad.gz\")\n",
        "kim_d53 = sc.read_h5ad(\"/content/drive/My Drive/BENG204_Project/BENG204_Project_Data/kim_d53_combined.h5ad.gz\")"
      ],
      "metadata": {
        "id": "neUWfWceVAsu"
      },
      "execution_count": null,
      "outputs": []
    },
    {
      "cell_type": "markdown",
      "source": [
        "## Read in Ho et al files"
      ],
      "metadata": {
        "id": "wPoY_lJecpSX"
      }
    },
    {
      "cell_type": "code",
      "source": [
        "counts_raw = pd.read_table(\"/content/drive/My Drive/BENG204_Project/BENG204_Project_Data/GSE210206_counts.txt\", )\n",
        "counts_raw.head()\n",
        "# transpose\n",
        "# filter\n",
        "# blah"
      ],
      "metadata": {
        "colab": {
          "base_uri": "https://localhost:8080/",
          "height": 226
        },
        "id": "5XPMrLxGcsXO",
        "outputId": "7579af37-a21f-4547-d618-275f64905d96"
      },
      "execution_count": 5,
      "outputs": [
        {
          "output_type": "execute_result",
          "data": {
            "text/plain": [
              "  gene_symbol  OFO1003B1  OFO1003B2  OFO1003O1  OFO1003O2  OFO1003V1  \\\n",
              "0     DDX11L1          1          0          0          0          0   \n",
              "1      WASH7P        448        437        412        510        637   \n",
              "2   MIR6859-2          0          0          0          0          0   \n",
              "3   MIR6859-1          0          0          0          0          0   \n",
              "4     FAM138A          0          0          0          0          0   \n",
              "\n",
              "   OFO1003V2  OFO1004B1  OFO1004B2  OFO1004O1  OFO1004O2  OFO1004V1  \\\n",
              "0          0          0          2          2          0          0   \n",
              "1        686        263        300        247        329        256   \n",
              "2          0          0          0          0          0          0   \n",
              "3          0          0          0          0          0          0   \n",
              "4          0          0          0          0          0          0   \n",
              "\n",
              "   OFO1004V2  OFO1005B1  OFO1005B2  OFO1005O1  OFO1005O2  OFO1005V1  OFO1005V2  \n",
              "0          0          1          0          0          0          0          1  \n",
              "1        163        373        367        182        222        252        242  \n",
              "2          0          0          0          0          0          0          0  \n",
              "3          0          0          0          0          0          0          0  \n",
              "4          0          0          0          0          0          0          0  "
            ],
            "text/html": [
              "\n",
              "  <div id=\"df-40474dfa-cc84-4978-966a-f754f578ec75\" class=\"colab-df-container\">\n",
              "    <div>\n",
              "<style scoped>\n",
              "    .dataframe tbody tr th:only-of-type {\n",
              "        vertical-align: middle;\n",
              "    }\n",
              "\n",
              "    .dataframe tbody tr th {\n",
              "        vertical-align: top;\n",
              "    }\n",
              "\n",
              "    .dataframe thead th {\n",
              "        text-align: right;\n",
              "    }\n",
              "</style>\n",
              "<table border=\"1\" class=\"dataframe\">\n",
              "  <thead>\n",
              "    <tr style=\"text-align: right;\">\n",
              "      <th></th>\n",
              "      <th>gene_symbol</th>\n",
              "      <th>OFO1003B1</th>\n",
              "      <th>OFO1003B2</th>\n",
              "      <th>OFO1003O1</th>\n",
              "      <th>OFO1003O2</th>\n",
              "      <th>OFO1003V1</th>\n",
              "      <th>OFO1003V2</th>\n",
              "      <th>OFO1004B1</th>\n",
              "      <th>OFO1004B2</th>\n",
              "      <th>OFO1004O1</th>\n",
              "      <th>OFO1004O2</th>\n",
              "      <th>OFO1004V1</th>\n",
              "      <th>OFO1004V2</th>\n",
              "      <th>OFO1005B1</th>\n",
              "      <th>OFO1005B2</th>\n",
              "      <th>OFO1005O1</th>\n",
              "      <th>OFO1005O2</th>\n",
              "      <th>OFO1005V1</th>\n",
              "      <th>OFO1005V2</th>\n",
              "    </tr>\n",
              "  </thead>\n",
              "  <tbody>\n",
              "    <tr>\n",
              "      <th>0</th>\n",
              "      <td>DDX11L1</td>\n",
              "      <td>1</td>\n",
              "      <td>0</td>\n",
              "      <td>0</td>\n",
              "      <td>0</td>\n",
              "      <td>0</td>\n",
              "      <td>0</td>\n",
              "      <td>0</td>\n",
              "      <td>2</td>\n",
              "      <td>2</td>\n",
              "      <td>0</td>\n",
              "      <td>0</td>\n",
              "      <td>0</td>\n",
              "      <td>1</td>\n",
              "      <td>0</td>\n",
              "      <td>0</td>\n",
              "      <td>0</td>\n",
              "      <td>0</td>\n",
              "      <td>1</td>\n",
              "    </tr>\n",
              "    <tr>\n",
              "      <th>1</th>\n",
              "      <td>WASH7P</td>\n",
              "      <td>448</td>\n",
              "      <td>437</td>\n",
              "      <td>412</td>\n",
              "      <td>510</td>\n",
              "      <td>637</td>\n",
              "      <td>686</td>\n",
              "      <td>263</td>\n",
              "      <td>300</td>\n",
              "      <td>247</td>\n",
              "      <td>329</td>\n",
              "      <td>256</td>\n",
              "      <td>163</td>\n",
              "      <td>373</td>\n",
              "      <td>367</td>\n",
              "      <td>182</td>\n",
              "      <td>222</td>\n",
              "      <td>252</td>\n",
              "      <td>242</td>\n",
              "    </tr>\n",
              "    <tr>\n",
              "      <th>2</th>\n",
              "      <td>MIR6859-2</td>\n",
              "      <td>0</td>\n",
              "      <td>0</td>\n",
              "      <td>0</td>\n",
              "      <td>0</td>\n",
              "      <td>0</td>\n",
              "      <td>0</td>\n",
              "      <td>0</td>\n",
              "      <td>0</td>\n",
              "      <td>0</td>\n",
              "      <td>0</td>\n",
              "      <td>0</td>\n",
              "      <td>0</td>\n",
              "      <td>0</td>\n",
              "      <td>0</td>\n",
              "      <td>0</td>\n",
              "      <td>0</td>\n",
              "      <td>0</td>\n",
              "      <td>0</td>\n",
              "    </tr>\n",
              "    <tr>\n",
              "      <th>3</th>\n",
              "      <td>MIR6859-1</td>\n",
              "      <td>0</td>\n",
              "      <td>0</td>\n",
              "      <td>0</td>\n",
              "      <td>0</td>\n",
              "      <td>0</td>\n",
              "      <td>0</td>\n",
              "      <td>0</td>\n",
              "      <td>0</td>\n",
              "      <td>0</td>\n",
              "      <td>0</td>\n",
              "      <td>0</td>\n",
              "      <td>0</td>\n",
              "      <td>0</td>\n",
              "      <td>0</td>\n",
              "      <td>0</td>\n",
              "      <td>0</td>\n",
              "      <td>0</td>\n",
              "      <td>0</td>\n",
              "    </tr>\n",
              "    <tr>\n",
              "      <th>4</th>\n",
              "      <td>FAM138A</td>\n",
              "      <td>0</td>\n",
              "      <td>0</td>\n",
              "      <td>0</td>\n",
              "      <td>0</td>\n",
              "      <td>0</td>\n",
              "      <td>0</td>\n",
              "      <td>0</td>\n",
              "      <td>0</td>\n",
              "      <td>0</td>\n",
              "      <td>0</td>\n",
              "      <td>0</td>\n",
              "      <td>0</td>\n",
              "      <td>0</td>\n",
              "      <td>0</td>\n",
              "      <td>0</td>\n",
              "      <td>0</td>\n",
              "      <td>0</td>\n",
              "      <td>0</td>\n",
              "    </tr>\n",
              "  </tbody>\n",
              "</table>\n",
              "</div>\n",
              "    <div class=\"colab-df-buttons\">\n",
              "\n",
              "  <div class=\"colab-df-container\">\n",
              "    <button class=\"colab-df-convert\" onclick=\"convertToInteractive('df-40474dfa-cc84-4978-966a-f754f578ec75')\"\n",
              "            title=\"Convert this dataframe to an interactive table.\"\n",
              "            style=\"display:none;\">\n",
              "\n",
              "  <svg xmlns=\"http://www.w3.org/2000/svg\" height=\"24px\" viewBox=\"0 -960 960 960\">\n",
              "    <path d=\"M120-120v-720h720v720H120Zm60-500h600v-160H180v160Zm220 220h160v-160H400v160Zm0 220h160v-160H400v160ZM180-400h160v-160H180v160Zm440 0h160v-160H620v160ZM180-180h160v-160H180v160Zm440 0h160v-160H620v160Z\"/>\n",
              "  </svg>\n",
              "    </button>\n",
              "\n",
              "  <style>\n",
              "    .colab-df-container {\n",
              "      display:flex;\n",
              "      gap: 12px;\n",
              "    }\n",
              "\n",
              "    .colab-df-convert {\n",
              "      background-color: #E8F0FE;\n",
              "      border: none;\n",
              "      border-radius: 50%;\n",
              "      cursor: pointer;\n",
              "      display: none;\n",
              "      fill: #1967D2;\n",
              "      height: 32px;\n",
              "      padding: 0 0 0 0;\n",
              "      width: 32px;\n",
              "    }\n",
              "\n",
              "    .colab-df-convert:hover {\n",
              "      background-color: #E2EBFA;\n",
              "      box-shadow: 0px 1px 2px rgba(60, 64, 67, 0.3), 0px 1px 3px 1px rgba(60, 64, 67, 0.15);\n",
              "      fill: #174EA6;\n",
              "    }\n",
              "\n",
              "    .colab-df-buttons div {\n",
              "      margin-bottom: 4px;\n",
              "    }\n",
              "\n",
              "    [theme=dark] .colab-df-convert {\n",
              "      background-color: #3B4455;\n",
              "      fill: #D2E3FC;\n",
              "    }\n",
              "\n",
              "    [theme=dark] .colab-df-convert:hover {\n",
              "      background-color: #434B5C;\n",
              "      box-shadow: 0px 1px 3px 1px rgba(0, 0, 0, 0.15);\n",
              "      filter: drop-shadow(0px 1px 2px rgba(0, 0, 0, 0.3));\n",
              "      fill: #FFFFFF;\n",
              "    }\n",
              "  </style>\n",
              "\n",
              "    <script>\n",
              "      const buttonEl =\n",
              "        document.querySelector('#df-40474dfa-cc84-4978-966a-f754f578ec75 button.colab-df-convert');\n",
              "      buttonEl.style.display =\n",
              "        google.colab.kernel.accessAllowed ? 'block' : 'none';\n",
              "\n",
              "      async function convertToInteractive(key) {\n",
              "        const element = document.querySelector('#df-40474dfa-cc84-4978-966a-f754f578ec75');\n",
              "        const dataTable =\n",
              "          await google.colab.kernel.invokeFunction('convertToInteractive',\n",
              "                                                    [key], {});\n",
              "        if (!dataTable) return;\n",
              "\n",
              "        const docLinkHtml = 'Like what you see? Visit the ' +\n",
              "          '<a target=\"_blank\" href=https://colab.research.google.com/notebooks/data_table.ipynb>data table notebook</a>'\n",
              "          + ' to learn more about interactive tables.';\n",
              "        element.innerHTML = '';\n",
              "        dataTable['output_type'] = 'display_data';\n",
              "        await google.colab.output.renderOutput(dataTable, element);\n",
              "        const docLink = document.createElement('div');\n",
              "        docLink.innerHTML = docLinkHtml;\n",
              "        element.appendChild(docLink);\n",
              "      }\n",
              "    </script>\n",
              "  </div>\n",
              "\n",
              "\n",
              "<div id=\"df-74168d74-99d1-47d9-87a3-1241fa6a8b9a\">\n",
              "  <button class=\"colab-df-quickchart\" onclick=\"quickchart('df-74168d74-99d1-47d9-87a3-1241fa6a8b9a')\"\n",
              "            title=\"Suggest charts\"\n",
              "            style=\"display:none;\">\n",
              "\n",
              "<svg xmlns=\"http://www.w3.org/2000/svg\" height=\"24px\"viewBox=\"0 0 24 24\"\n",
              "     width=\"24px\">\n",
              "    <g>\n",
              "        <path d=\"M19 3H5c-1.1 0-2 .9-2 2v14c0 1.1.9 2 2 2h14c1.1 0 2-.9 2-2V5c0-1.1-.9-2-2-2zM9 17H7v-7h2v7zm4 0h-2V7h2v10zm4 0h-2v-4h2v4z\"/>\n",
              "    </g>\n",
              "</svg>\n",
              "  </button>\n",
              "\n",
              "<style>\n",
              "  .colab-df-quickchart {\n",
              "      --bg-color: #E8F0FE;\n",
              "      --fill-color: #1967D2;\n",
              "      --hover-bg-color: #E2EBFA;\n",
              "      --hover-fill-color: #174EA6;\n",
              "      --disabled-fill-color: #AAA;\n",
              "      --disabled-bg-color: #DDD;\n",
              "  }\n",
              "\n",
              "  [theme=dark] .colab-df-quickchart {\n",
              "      --bg-color: #3B4455;\n",
              "      --fill-color: #D2E3FC;\n",
              "      --hover-bg-color: #434B5C;\n",
              "      --hover-fill-color: #FFFFFF;\n",
              "      --disabled-bg-color: #3B4455;\n",
              "      --disabled-fill-color: #666;\n",
              "  }\n",
              "\n",
              "  .colab-df-quickchart {\n",
              "    background-color: var(--bg-color);\n",
              "    border: none;\n",
              "    border-radius: 50%;\n",
              "    cursor: pointer;\n",
              "    display: none;\n",
              "    fill: var(--fill-color);\n",
              "    height: 32px;\n",
              "    padding: 0;\n",
              "    width: 32px;\n",
              "  }\n",
              "\n",
              "  .colab-df-quickchart:hover {\n",
              "    background-color: var(--hover-bg-color);\n",
              "    box-shadow: 0 1px 2px rgba(60, 64, 67, 0.3), 0 1px 3px 1px rgba(60, 64, 67, 0.15);\n",
              "    fill: var(--button-hover-fill-color);\n",
              "  }\n",
              "\n",
              "  .colab-df-quickchart-complete:disabled,\n",
              "  .colab-df-quickchart-complete:disabled:hover {\n",
              "    background-color: var(--disabled-bg-color);\n",
              "    fill: var(--disabled-fill-color);\n",
              "    box-shadow: none;\n",
              "  }\n",
              "\n",
              "  .colab-df-spinner {\n",
              "    border: 2px solid var(--fill-color);\n",
              "    border-color: transparent;\n",
              "    border-bottom-color: var(--fill-color);\n",
              "    animation:\n",
              "      spin 1s steps(1) infinite;\n",
              "  }\n",
              "\n",
              "  @keyframes spin {\n",
              "    0% {\n",
              "      border-color: transparent;\n",
              "      border-bottom-color: var(--fill-color);\n",
              "      border-left-color: var(--fill-color);\n",
              "    }\n",
              "    20% {\n",
              "      border-color: transparent;\n",
              "      border-left-color: var(--fill-color);\n",
              "      border-top-color: var(--fill-color);\n",
              "    }\n",
              "    30% {\n",
              "      border-color: transparent;\n",
              "      border-left-color: var(--fill-color);\n",
              "      border-top-color: var(--fill-color);\n",
              "      border-right-color: var(--fill-color);\n",
              "    }\n",
              "    40% {\n",
              "      border-color: transparent;\n",
              "      border-right-color: var(--fill-color);\n",
              "      border-top-color: var(--fill-color);\n",
              "    }\n",
              "    60% {\n",
              "      border-color: transparent;\n",
              "      border-right-color: var(--fill-color);\n",
              "    }\n",
              "    80% {\n",
              "      border-color: transparent;\n",
              "      border-right-color: var(--fill-color);\n",
              "      border-bottom-color: var(--fill-color);\n",
              "    }\n",
              "    90% {\n",
              "      border-color: transparent;\n",
              "      border-bottom-color: var(--fill-color);\n",
              "    }\n",
              "  }\n",
              "</style>\n",
              "\n",
              "  <script>\n",
              "    async function quickchart(key) {\n",
              "      const quickchartButtonEl =\n",
              "        document.querySelector('#' + key + ' button');\n",
              "      quickchartButtonEl.disabled = true;  // To prevent multiple clicks.\n",
              "      quickchartButtonEl.classList.add('colab-df-spinner');\n",
              "      try {\n",
              "        const charts = await google.colab.kernel.invokeFunction(\n",
              "            'suggestCharts', [key], {});\n",
              "      } catch (error) {\n",
              "        console.error('Error during call to suggestCharts:', error);\n",
              "      }\n",
              "      quickchartButtonEl.classList.remove('colab-df-spinner');\n",
              "      quickchartButtonEl.classList.add('colab-df-quickchart-complete');\n",
              "    }\n",
              "    (() => {\n",
              "      let quickchartButtonEl =\n",
              "        document.querySelector('#df-74168d74-99d1-47d9-87a3-1241fa6a8b9a button');\n",
              "      quickchartButtonEl.style.display =\n",
              "        google.colab.kernel.accessAllowed ? 'block' : 'none';\n",
              "    })();\n",
              "  </script>\n",
              "</div>\n",
              "\n",
              "    </div>\n",
              "  </div>\n"
            ],
            "application/vnd.google.colaboratory.intrinsic+json": {
              "type": "dataframe",
              "variable_name": "counts_raw",
              "summary": "{\n  \"name\": \"counts_raw\",\n  \"rows\": 25370,\n  \"fields\": [\n    {\n      \"column\": \"gene_symbol\",\n      \"properties\": {\n        \"dtype\": \"string\",\n        \"num_unique_values\": 25370,\n        \"samples\": [\n          \"SUGT1P3\",\n          \"MYL12B\",\n          \"SUSD5\"\n        ],\n        \"semantic_type\": \"\",\n        \"description\": \"\"\n      }\n    },\n    {\n      \"column\": \"OFO1003B1\",\n      \"properties\": {\n        \"dtype\": \"number\",\n        \"std\": 2440,\n        \"min\": 0,\n        \"max\": 221591,\n        \"num_unique_values\": 3112,\n        \"samples\": [\n          440,\n          693,\n          1094\n        ],\n        \"semantic_type\": \"\",\n        \"description\": \"\"\n      }\n    },\n    {\n      \"column\": \"OFO1003B2\",\n      \"properties\": {\n        \"dtype\": \"number\",\n        \"std\": 2397,\n        \"min\": 0,\n        \"max\": 222964,\n        \"num_unique_values\": 3063,\n        \"samples\": [\n          559,\n          620,\n          2808\n        ],\n        \"semantic_type\": \"\",\n        \"description\": \"\"\n      }\n    },\n    {\n      \"column\": \"OFO1003O1\",\n      \"properties\": {\n        \"dtype\": \"number\",\n        \"std\": 2707,\n        \"min\": 0,\n        \"max\": 277768,\n        \"num_unique_values\": 2664,\n        \"samples\": [\n          1916,\n          810,\n          4210\n        ],\n        \"semantic_type\": \"\",\n        \"description\": \"\"\n      }\n    },\n    {\n      \"column\": \"OFO1003O2\",\n      \"properties\": {\n        \"dtype\": \"number\",\n        \"std\": 2924,\n        \"min\": 0,\n        \"max\": 300621,\n        \"num_unique_values\": 2727,\n        \"samples\": [\n          42033,\n          9919,\n          3256\n        ],\n        \"semantic_type\": \"\",\n        \"description\": \"\"\n      }\n    },\n    {\n      \"column\": \"OFO1003V1\",\n      \"properties\": {\n        \"dtype\": \"number\",\n        \"std\": 2998,\n        \"min\": 0,\n        \"max\": 294230,\n        \"num_unique_values\": 3209,\n        \"samples\": [\n          1542,\n          3056,\n          1226\n        ],\n        \"semantic_type\": \"\",\n        \"description\": \"\"\n      }\n    },\n    {\n      \"column\": \"OFO1003V2\",\n      \"properties\": {\n        \"dtype\": \"number\",\n        \"std\": 2920,\n        \"min\": 0,\n        \"max\": 286352,\n        \"num_unique_values\": 3168,\n        \"samples\": [\n          1292,\n          577,\n          439\n        ],\n        \"semantic_type\": \"\",\n        \"description\": \"\"\n      }\n    },\n    {\n      \"column\": \"OFO1004B1\",\n      \"properties\": {\n        \"dtype\": \"number\",\n        \"std\": 2981,\n        \"min\": 0,\n        \"max\": 315138,\n        \"num_unique_values\": 3103,\n        \"samples\": [\n          816,\n          17885,\n          914\n        ],\n        \"semantic_type\": \"\",\n        \"description\": \"\"\n      }\n    },\n    {\n      \"column\": \"OFO1004B2\",\n      \"properties\": {\n        \"dtype\": \"number\",\n        \"std\": 2746,\n        \"min\": 0,\n        \"max\": 284813,\n        \"num_unique_values\": 3038,\n        \"samples\": [\n          216,\n          22262,\n          150\n        ],\n        \"semantic_type\": \"\",\n        \"description\": \"\"\n      }\n    },\n    {\n      \"column\": \"OFO1004O1\",\n      \"properties\": {\n        \"dtype\": \"number\",\n        \"std\": 2392,\n        \"min\": 0,\n        \"max\": 232836,\n        \"num_unique_values\": 2888,\n        \"samples\": [\n          544,\n          103,\n          2102\n        ],\n        \"semantic_type\": \"\",\n        \"description\": \"\"\n      }\n    },\n    {\n      \"column\": \"OFO1004O2\",\n      \"properties\": {\n        \"dtype\": \"number\",\n        \"std\": 3072,\n        \"min\": 0,\n        \"max\": 300507,\n        \"num_unique_values\": 3327,\n        \"samples\": [\n          1298,\n          1600,\n          3186\n        ],\n        \"semantic_type\": \"\",\n        \"description\": \"\"\n      }\n    },\n    {\n      \"column\": \"OFO1004V1\",\n      \"properties\": {\n        \"dtype\": \"number\",\n        \"std\": 2768,\n        \"min\": 0,\n        \"max\": 282339,\n        \"num_unique_values\": 2992,\n        \"samples\": [\n          4657,\n          11804,\n          878\n        ],\n        \"semantic_type\": \"\",\n        \"description\": \"\"\n      }\n    },\n    {\n      \"column\": \"OFO1004V2\",\n      \"properties\": {\n        \"dtype\": \"number\",\n        \"std\": 2006,\n        \"min\": 0,\n        \"max\": 202468,\n        \"num_unique_values\": 2495,\n        \"samples\": [\n          3152,\n          735,\n          493\n        ],\n        \"semantic_type\": \"\",\n        \"description\": \"\"\n      }\n    },\n    {\n      \"column\": \"OFO1005B1\",\n      \"properties\": {\n        \"dtype\": \"number\",\n        \"std\": 3302,\n        \"min\": 0,\n        \"max\": 337709,\n        \"num_unique_values\": 3352,\n        \"samples\": [\n          9188,\n          5468,\n          2375\n        ],\n        \"semantic_type\": \"\",\n        \"description\": \"\"\n      }\n    },\n    {\n      \"column\": \"OFO1005B2\",\n      \"properties\": {\n        \"dtype\": \"number\",\n        \"std\": 2966,\n        \"min\": 0,\n        \"max\": 294182,\n        \"num_unique_values\": 3197,\n        \"samples\": [\n          1567,\n          3761,\n          7493\n        ],\n        \"semantic_type\": \"\",\n        \"description\": \"\"\n      }\n    },\n    {\n      \"column\": \"OFO1005O1\",\n      \"properties\": {\n        \"dtype\": \"number\",\n        \"std\": 2698,\n        \"min\": 0,\n        \"max\": 297875,\n        \"num_unique_values\": 2720,\n        \"samples\": [\n          1357,\n          1137,\n          1368\n        ],\n        \"semantic_type\": \"\",\n        \"description\": \"\"\n      }\n    },\n    {\n      \"column\": \"OFO1005O2\",\n      \"properties\": {\n        \"dtype\": \"number\",\n        \"std\": 2732,\n        \"min\": 0,\n        \"max\": 283559,\n        \"num_unique_values\": 2795,\n        \"samples\": [\n          3439,\n          4278,\n          394\n        ],\n        \"semantic_type\": \"\",\n        \"description\": \"\"\n      }\n    },\n    {\n      \"column\": \"OFO1005V1\",\n      \"properties\": {\n        \"dtype\": \"number\",\n        \"std\": 3097,\n        \"min\": 0,\n        \"max\": 337506,\n        \"num_unique_values\": 3145,\n        \"samples\": [\n          3914,\n          3694,\n          550\n        ],\n        \"semantic_type\": \"\",\n        \"description\": \"\"\n      }\n    },\n    {\n      \"column\": \"OFO1005V2\",\n      \"properties\": {\n        \"dtype\": \"number\",\n        \"std\": 2467,\n        \"min\": 0,\n        \"max\": 267576,\n        \"num_unique_values\": 2775,\n        \"samples\": [\n          470,\n          1530,\n          779\n        ],\n        \"semantic_type\": \"\",\n        \"description\": \"\"\n      }\n    }\n  ]\n}"
            }
          },
          "metadata": {},
          "execution_count": 5
        }
      ]
    },
    {
      "cell_type": "code",
      "source": [],
      "metadata": {
        "id": "MtyeTZrLdXK1"
      },
      "execution_count": null,
      "outputs": []
    }
  ]
}