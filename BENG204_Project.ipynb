{
  "nbformat": 4,
  "nbformat_minor": 0,
  "metadata": {
    "colab": {
      "provenance": [],
      "authorship_tag": "ABX9TyNmYFTzSq94c4qtcTmoqb9X",
      "include_colab_link": true
    },
    "kernelspec": {
      "name": "python3",
      "display_name": "Python 3"
    },
    "language_info": {
      "name": "python"
    }
  },
  "cells": [
    {
      "cell_type": "markdown",
      "metadata": {
        "id": "view-in-github",
        "colab_type": "text"
      },
      "source": [
        "<a href=\"https://colab.research.google.com/github/robinanwyl/oud_transcriptomics/blob/main/BENG204_Project.ipynb\" target=\"_parent\"><img src=\"https://colab.research.google.com/assets/colab-badge.svg\" alt=\"Open In Colab\"/></a>"
      ]
    },
    {
      "cell_type": "markdown",
      "source": [
        "# BENG 204 Project: Understanding Transcriptional Responses to Opioid Exposure Across Neurodevelopmental Stages in Brain Organoid Models"
      ],
      "metadata": {
        "id": "x0JJx1F1ihZa"
      }
    },
    {
      "cell_type": "markdown",
      "source": [
        "Mount the drive (run this cell every time the notebook is opened, and enable permissions if prompted)"
      ],
      "metadata": {
        "id": "xfOFMAwNh2j4"
      }
    },
    {
      "cell_type": "code",
      "execution_count": null,
      "metadata": {
        "id": "GWSRmTUTdPFX",
        "colab": {
          "base_uri": "https://localhost:8080/"
        },
        "outputId": "8cd902dc-f539-4f5e-9225-9203e0f2d159"
      },
      "outputs": [
        {
          "output_type": "stream",
          "name": "stdout",
          "text": [
            "Mounted at /content/drive\n"
          ]
        }
      ],
      "source": [
        "from google.colab import drive\n",
        "drive.mount('/content/drive')\n",
        "# filepath for the project data is now \"/content/drive/My Drive/BENG204_Project/BENG204_Project_Data/\""
      ]
    },
    {
      "cell_type": "markdown",
      "source": [
        "If the scanpy and anndata import statements are underlined with a red squiggle, run this cell to re-install those packages."
      ],
      "metadata": {
        "id": "-o9oxyISwYVv"
      }
    },
    {
      "cell_type": "code",
      "source": [
        "#%pip install scanpy\n",
        "#%pip install anndata"
      ],
      "metadata": {
        "id": "n91s2TS5wX18"
      },
      "execution_count": null,
      "outputs": []
    },
    {
      "cell_type": "markdown",
      "source": [
        "Import statements"
      ],
      "metadata": {
        "id": "M1Ibv7NrPgac"
      }
    },
    {
      "cell_type": "code",
      "source": [
        "import scanpy as sc\n",
        "import anndata as ad\n",
        "import numpy as np\n",
        "import pandas as pd\n",
        "# import matplotlib.pyplot as plt\n",
        "# etc."
      ],
      "metadata": {
        "id": "PqVz0cjBPg-F"
      },
      "execution_count": null,
      "outputs": []
    },
    {
      "cell_type": "markdown",
      "source": [
        "## Read in Kim et al scRNA-seq 10X output files and save as .h5ad.gz files (perform once)\n",
        "**Read in the scRNA-seq data for Kim et al dataset day 53 untreated sample and day 53 acute fentanyl treatment sample. Merge the datasets (using unique cell barcodes with sample identifiers). Save the two datasets and the merged dataset as `.h5ad.gz` files.**\n",
        "\n",
        "The original sample IDs are KH001 for the day 53 untreated sample and KH002 for the day 53 acute fentanyl treatment sample. Each sample has its own folder containing 3 compressed (`.gz`) files, which are the 10X Genomics CellRanger output files:\n",
        "\n",
        "*   `matrix.mtx.gz` is a count matrix where rows are single cells, columns are genes, and each cell is the read count of that gene in that cell\n",
        "*   `barcodes.tsv.gz` contains the cell barcodes (each cell is labeled with a unique barcode, which is used as an identifier)\n",
        "*   `features.tsv.gz` contains the gene names\n",
        "\n",
        "For each sample, we will first use `scanpy.read_10x_mtx()` to read the 3 files into a single `AnnData` object that contains the cell-by-gene matrix and associated metadata (barcodes and features):"
      ],
      "metadata": {
        "id": "Ztbxy1atGj_z"
      }
    },
    {
      "cell_type": "code",
      "source": [
        "# sample1_path = \"/content/drive/My Drive/BENG204_Project/BENG204_Project_Data/Kim_KH001_Day53_Untreated\"\n",
        "# adata1 = sc.read_10x_mtx(sample1_path, var_names=\"gene_symbols\", cache=True)\n",
        "# adata1.obs[\"sample\"] = \"kim_day53_untreated\"\n",
        "# print(\"kim_day53_untreated\\n\", adata1)\n",
        "\n",
        "# sample2_path = \"/content/drive/My Drive/BENG204_Project/BENG204_Project_Data/Kim_KH002_Day53_FTY_Acute\"\n",
        "# adata2 = sc.read_10x_mtx(sample2_path, var_names=\"gene_symbols\", cache=True)\n",
        "# adata2.obs[\"sample\"] = \"kim_day53_fty_acute\"\n",
        "# print(\"\\nkim_day53_fty_acute\\n\", adata2)"
      ],
      "metadata": {
        "colab": {
          "base_uri": "https://localhost:8080/"
        },
        "id": "FOpNEGzzGrt4",
        "outputId": "bac0fc73-2eff-43e6-8279-75d5a78d3024"
      },
      "execution_count": null,
      "outputs": [
        {
          "output_type": "stream",
          "name": "stdout",
          "text": [
            "kim_day53_untreated\n",
            " AnnData object with n_obs × n_vars = 5131 × 33538\n",
            "    obs: 'sample'\n",
            "    var: 'gene_ids', 'feature_types'\n",
            "\n",
            "kim_day53_fty_acute\n",
            " AnnData object with n_obs × n_vars = 5499 × 33538\n",
            "    obs: 'sample'\n",
            "    var: 'gene_ids', 'feature_types'\n"
          ]
        }
      ]
    },
    {
      "cell_type": "markdown",
      "source": [
        "Now we will merge the two samples into one AnnData object. Since we want to keep track of which sample is which, we will first prepend the cell barcodes with a sample description: \"d53_ut\" for the untreated samples and \"d53_fty\" for the treated samples."
      ],
      "metadata": {
        "id": "ZJ5XYSRoQLJz"
      }
    },
    {
      "cell_type": "code",
      "source": [
        "# adata1.obs.index = [f\"d53_ut_{bc}\" for bc in adata1.obs.index]\n",
        "# adata2.obs.index = [f\"d53_fty_{bc}\" for bc in adata2.obs.index]\n",
        "# adata_combined = sc.concat([adata1, adata2], label=\"batch\", keys=[\"sample1\", \"sample2\"])\n",
        "# print(\"day 53 samples merged\\n\", adata_combined)"
      ],
      "metadata": {
        "colab": {
          "base_uri": "https://localhost:8080/"
        },
        "id": "S9L42BQNOBhc",
        "outputId": "50e26038-1995-4046-83a8-c0318a7dde51"
      },
      "execution_count": null,
      "outputs": [
        {
          "output_type": "stream",
          "name": "stdout",
          "text": [
            "day 53 samples merged\n",
            " AnnData object with n_obs × n_vars = 10630 × 33538\n",
            "    obs: 'sample', 'batch'\n"
          ]
        }
      ]
    },
    {
      "cell_type": "markdown",
      "source": [
        "Now we will save the three AnnData objects as `.h5ad.gz` files for later use."
      ],
      "metadata": {
        "id": "yHyPZ2rKTzJC"
      }
    },
    {
      "cell_type": "code",
      "source": [
        "# adata1.write(\"/content/drive/My Drive/BENG204_Project/BENG204_Project_Data/kim_d53_ut.h5ad.gz\", compression=\"gzip\")\n",
        "# adata2.write(\"/content/drive/My Drive/BENG204_Project/BENG204_Project_Data/kim_d53_fty.h5ad.gz\", compression=\"gzip\")\n",
        "# adata_combined.write(\"/content/drive/My Drive/BENG204_Project/BENG204_Project_Data/kim_d53_combined.h5ad.gz\", compression=\"gzip\")"
      ],
      "metadata": {
        "id": "325LybMrSOUY"
      },
      "execution_count": null,
      "outputs": []
    },
    {
      "cell_type": "markdown",
      "source": [
        "## Read in Kim et al .h5ad.gz files\n",
        "\n",
        "Now the Kim et al datasets that were saved as .h5ad.gz files can be read in as AnnData objects using `scanpy.read_h5ad()`."
      ],
      "metadata": {
        "id": "wF5_T5dwWjvH"
      }
    },
    {
      "cell_type": "code",
      "source": [
        "kim_d53_ut = sc.read_h5ad(\"/content/drive/My Drive/BENG204_Project/BENG204_Project_Data/kim_d53_ut.h5ad.gz\")\n",
        "kim_d53_fty = sc.read_h5ad(\"/content/drive/My Drive/BENG204_Project/BENG204_Project_Data/kim_d53_fty.h5ad.gz\")\n",
        "kim_d53 = sc.read_h5ad(\"/content/drive/My Drive/BENG204_Project/BENG204_Project_Data/kim_d53_combined.h5ad.gz\")"
      ],
      "metadata": {
        "id": "neUWfWceVAsu"
      },
      "execution_count": null,
      "outputs": []
    }
  ]
}