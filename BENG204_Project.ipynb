{
  "nbformat": 4,
  "nbformat_minor": 0,
  "metadata": {
    "colab": {
      "provenance": [],
      "authorship_tag": "ABX9TyNiXx7G7lN5/EDaenk9iKma",
      "include_colab_link": true
    },
    "kernelspec": {
      "name": "python3",
      "display_name": "Python 3"
    },
    "language_info": {
      "name": "python"
    }
  },
  "cells": [
    {
      "cell_type": "markdown",
      "metadata": {
        "id": "view-in-github",
        "colab_type": "text"
      },
      "source": [
        "<a href=\"https://colab.research.google.com/github/robinanwyl/oud_transcriptomics/blob/main/BENG204_Project.ipynb\" target=\"_parent\"><img src=\"https://colab.research.google.com/assets/colab-badge.svg\" alt=\"Open In Colab\"/></a>"
      ]
    },
    {
      "cell_type": "markdown",
      "source": [
        "# BENG 204 Project"
      ],
      "metadata": {
        "id": "x0JJx1F1ihZa"
      }
    },
    {
      "cell_type": "markdown",
      "source": [
        "Run this cell every time the notebook is opened to mount Google Drive and enable access to stored project data"
      ],
      "metadata": {
        "id": "xfOFMAwNh2j4"
      }
    },
    {
      "cell_type": "code",
      "execution_count": 1,
      "metadata": {
        "id": "GWSRmTUTdPFX",
        "colab": {
          "base_uri": "https://localhost:8080/"
        },
        "outputId": "54d8c9c8-845b-478f-abe2-bd9e8be7b385"
      },
      "outputs": [
        {
          "output_type": "stream",
          "name": "stdout",
          "text": [
            "Mounted at /content/drive\n"
          ]
        }
      ],
      "source": [
        "from google.colab import drive\n",
        "drive.mount('/content/drive')\n",
        "# After running this code, the filepath for the project data will be \"/content/drive/My Drive/BENG204_Project/BENG204_Project_Data/\""
      ]
    }
  ]
}